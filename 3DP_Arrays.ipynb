{
 "metadata": {
  "language_info": {
   "codemirror_mode": {
    "name": "ipython",
    "version": 3
   },
   "file_extension": ".py",
   "mimetype": "text/x-python",
   "name": "python",
   "nbconvert_exporter": "python",
   "pygments_lexer": "ipython3",
   "version": "3.8.5"
  },
  "orig_nbformat": 2,
  "kernelspec": {
   "name": "python3",
   "display_name": "Python 3",
   "language": "python"
  }
 },
 "nbformat": 4,
 "nbformat_minor": 2,
 "cells": [
  {
   "cell_type": "code",
   "execution_count": 10,
   "metadata": {},
   "outputs": [],
   "source": [
    "%matplotlib widget\n",
    "\n",
    "import matplotlib.pyplot as plt\n",
    "from matplotlib import cm\n",
    "\n",
    "import pandas as pd\n",
    "\n",
    "from mpl_toolkits.mplot3d import axes3d\n",
    "\n",
    "import scipy as sp\n",
    "import scipy.interpolate\n",
    "\n",
    "import numpy as np\n",
    "\n",
    "from mpl_toolkits.mplot3d.proj3d import proj_transform\n",
    "from matplotlib.text import Annotation"
   ]
  },
  {
   "cell_type": "code",
   "execution_count": 12,
   "metadata": {},
   "outputs": [],
   "source": [
    "CH4_conv = [13.07, 7.45, 13.29, 7.89, 9.07, 21.09, 19.46, 20.88, 16.82, 21.01, 26.47, 27.42, 25.56, 27.63, 24.32, 33.79, 35.63, 34.52, 33.61, 34.82] # CH4 Conversion\n",
    "C2_sel = [0, 5, 10, 17, 20, 0, 5, 10, 17, 20 , 0, 5, 10, 17, 20, 0, 5, 10, 17, 20] # C2 Selectivity\n",
    "Temp = [750, 750, 750, 750, 750, 800, 800, 800, 800, 800, 825, 825, 825, 825, 825, 850, 850, 850, 850, 850] # Temperature"
   ]
  },
  {
   "cell_type": "code",
   "execution_count": 14,
   "metadata": {},
   "outputs": [],
   "source": [
    "df = pd.DataFrame(list(zip(CH4_conv, C2_sel, Temp)), columns = ['CH4_conv','C2_sel', 'Temp'])"
   ]
  },
  {
   "cell_type": "code",
   "execution_count": 16,
   "metadata": {},
   "outputs": [],
   "source": [
    "x = df['CH4_conv']\n",
    "y = df['C2_sel']\n",
    "z = df['Temp']"
   ]
  },
  {
   "cell_type": "code",
   "execution_count": 17,
   "metadata": {},
   "outputs": [],
   "source": [
    "func = sp.interpolate.interp2d(x, y, z, kind = 'linear')"
   ]
  },
  {
   "cell_type": "code",
   "execution_count": 18,
   "metadata": {},
   "outputs": [],
   "source": [
    "x_new = np.linspace(min(CH4_conv), max(CH4_conv), 100)\n",
    "x_new = np.around(x_new,2)\n",
    "\n",
    "y_new = np.linspace(min(C2_sel), max(C2_sel), 100)\n",
    "y_new = np.around(y_new,2)\n",
    "\n",
    "z_new = func(x_new, y_new)\n",
    "z_new = np.around(z_new,2)"
   ]
  },
  {
   "cell_type": "code",
   "execution_count": 19,
   "metadata": {},
   "outputs": [
    {
     "output_type": "execute_result",
     "data": {
      "text/plain": [
       "        7.45    7.73    8.02    8.30    8.59    8.87    9.16    9.44    9.73   \\\n",
       "0.00   669.10  673.06  677.16  681.12  685.21  689.17  693.27  697.23  701.33   \n",
       "0.20   672.34  676.17  680.13  683.96  687.92  691.75  695.71  699.54  703.51   \n",
       "0.40   675.57  679.27  683.10  686.80  690.63  694.33  698.16  701.85  705.68   \n",
       "0.61   678.97  682.53  686.22  689.78  693.47  697.03  700.72  704.28  707.97   \n",
       "0.81   682.21  685.64  689.19  692.62  696.18  699.61  703.16  706.59  710.15   \n",
       "...       ...     ...     ...     ...     ...     ...     ...     ...     ...   \n",
       "19.19  865.97  842.65  818.48  795.16  770.99  747.66  723.50  700.17  676.01   \n",
       "19.39  874.17  850.24  825.45  801.51  776.72  752.79  728.00  704.06  679.27   \n",
       "19.60  882.77  858.20  832.76  808.19  782.74  758.17  732.72  708.15  682.70   \n",
       "19.80  890.97  865.79  839.72  814.54  788.47  763.29  737.22  712.04  685.97   \n",
       "20.00  899.16  873.38  846.68  820.90  794.20  768.42  741.71  715.93  689.23   \n",
       "\n",
       "        10.01  ...   33.07   33.35   33.64   33.92   34.21   34.49   34.78  \\\n",
       "0.00   705.29  ...  875.14  865.37  855.24  845.46  835.33  825.55  815.43   \n",
       "0.20   707.33  ...  873.57  864.25  854.59  845.26  835.61  826.28  816.62   \n",
       "0.40   709.38  ...  872.00  863.13  853.94  845.07  835.88  827.01  817.82   \n",
       "0.61   711.53  ...  870.35  861.96  853.26  844.86  836.17  827.77  819.07   \n",
       "0.81   713.58  ...  868.78  860.84  852.61  844.67  836.44  828.50  820.27   \n",
       "...       ...  ...     ...     ...     ...     ...     ...     ...     ...   \n",
       "19.19  652.68  ...  772.85  782.10  791.67  800.92  810.49  819.74  829.32   \n",
       "19.39  655.34  ...  762.88  774.49  786.51  798.11  810.13  821.74  833.76   \n",
       "19.60  658.13  ...  752.41  766.50  781.08  795.17  809.76  823.84  838.43   \n",
       "19.80  660.79  ...  742.45  758.89  775.92  792.36  809.40  825.84  842.87   \n",
       "20.00  663.45  ...  732.48  751.28  770.76  789.56  809.03  827.84  847.31   \n",
       "\n",
       "        35.06   35.35   35.63  \n",
       "0.00   805.65  795.52  785.74  \n",
       "0.20   807.30  797.64  788.31  \n",
       "0.40   808.95  799.76  790.88  \n",
       "0.61   810.68  801.98  793.58  \n",
       "0.81   812.32  804.10  796.15  \n",
       "...       ...     ...     ...  \n",
       "19.19  838.56  848.14  857.39  \n",
       "19.39  845.37  857.39  868.99  \n",
       "19.60  852.51  867.10  881.18  \n",
       "19.80  859.31  876.35  892.79  \n",
       "20.00  866.12  885.59  904.40  \n",
       "\n",
       "[100 rows x 100 columns]"
      ],
      "text/html": "<div>\n<style scoped>\n    .dataframe tbody tr th:only-of-type {\n        vertical-align: middle;\n    }\n\n    .dataframe tbody tr th {\n        vertical-align: top;\n    }\n\n    .dataframe thead th {\n        text-align: right;\n    }\n</style>\n<table border=\"1\" class=\"dataframe\">\n  <thead>\n    <tr style=\"text-align: right;\">\n      <th></th>\n      <th>7.45</th>\n      <th>7.73</th>\n      <th>8.02</th>\n      <th>8.30</th>\n      <th>8.59</th>\n      <th>8.87</th>\n      <th>9.16</th>\n      <th>9.44</th>\n      <th>9.73</th>\n      <th>10.01</th>\n      <th>...</th>\n      <th>33.07</th>\n      <th>33.35</th>\n      <th>33.64</th>\n      <th>33.92</th>\n      <th>34.21</th>\n      <th>34.49</th>\n      <th>34.78</th>\n      <th>35.06</th>\n      <th>35.35</th>\n      <th>35.63</th>\n    </tr>\n  </thead>\n  <tbody>\n    <tr>\n      <th>0.00</th>\n      <td>669.10</td>\n      <td>673.06</td>\n      <td>677.16</td>\n      <td>681.12</td>\n      <td>685.21</td>\n      <td>689.17</td>\n      <td>693.27</td>\n      <td>697.23</td>\n      <td>701.33</td>\n      <td>705.29</td>\n      <td>...</td>\n      <td>875.14</td>\n      <td>865.37</td>\n      <td>855.24</td>\n      <td>845.46</td>\n      <td>835.33</td>\n      <td>825.55</td>\n      <td>815.43</td>\n      <td>805.65</td>\n      <td>795.52</td>\n      <td>785.74</td>\n    </tr>\n    <tr>\n      <th>0.20</th>\n      <td>672.34</td>\n      <td>676.17</td>\n      <td>680.13</td>\n      <td>683.96</td>\n      <td>687.92</td>\n      <td>691.75</td>\n      <td>695.71</td>\n      <td>699.54</td>\n      <td>703.51</td>\n      <td>707.33</td>\n      <td>...</td>\n      <td>873.57</td>\n      <td>864.25</td>\n      <td>854.59</td>\n      <td>845.26</td>\n      <td>835.61</td>\n      <td>826.28</td>\n      <td>816.62</td>\n      <td>807.30</td>\n      <td>797.64</td>\n      <td>788.31</td>\n    </tr>\n    <tr>\n      <th>0.40</th>\n      <td>675.57</td>\n      <td>679.27</td>\n      <td>683.10</td>\n      <td>686.80</td>\n      <td>690.63</td>\n      <td>694.33</td>\n      <td>698.16</td>\n      <td>701.85</td>\n      <td>705.68</td>\n      <td>709.38</td>\n      <td>...</td>\n      <td>872.00</td>\n      <td>863.13</td>\n      <td>853.94</td>\n      <td>845.07</td>\n      <td>835.88</td>\n      <td>827.01</td>\n      <td>817.82</td>\n      <td>808.95</td>\n      <td>799.76</td>\n      <td>790.88</td>\n    </tr>\n    <tr>\n      <th>0.61</th>\n      <td>678.97</td>\n      <td>682.53</td>\n      <td>686.22</td>\n      <td>689.78</td>\n      <td>693.47</td>\n      <td>697.03</td>\n      <td>700.72</td>\n      <td>704.28</td>\n      <td>707.97</td>\n      <td>711.53</td>\n      <td>...</td>\n      <td>870.35</td>\n      <td>861.96</td>\n      <td>853.26</td>\n      <td>844.86</td>\n      <td>836.17</td>\n      <td>827.77</td>\n      <td>819.07</td>\n      <td>810.68</td>\n      <td>801.98</td>\n      <td>793.58</td>\n    </tr>\n    <tr>\n      <th>0.81</th>\n      <td>682.21</td>\n      <td>685.64</td>\n      <td>689.19</td>\n      <td>692.62</td>\n      <td>696.18</td>\n      <td>699.61</td>\n      <td>703.16</td>\n      <td>706.59</td>\n      <td>710.15</td>\n      <td>713.58</td>\n      <td>...</td>\n      <td>868.78</td>\n      <td>860.84</td>\n      <td>852.61</td>\n      <td>844.67</td>\n      <td>836.44</td>\n      <td>828.50</td>\n      <td>820.27</td>\n      <td>812.32</td>\n      <td>804.10</td>\n      <td>796.15</td>\n    </tr>\n    <tr>\n      <th>...</th>\n      <td>...</td>\n      <td>...</td>\n      <td>...</td>\n      <td>...</td>\n      <td>...</td>\n      <td>...</td>\n      <td>...</td>\n      <td>...</td>\n      <td>...</td>\n      <td>...</td>\n      <td>...</td>\n      <td>...</td>\n      <td>...</td>\n      <td>...</td>\n      <td>...</td>\n      <td>...</td>\n      <td>...</td>\n      <td>...</td>\n      <td>...</td>\n      <td>...</td>\n      <td>...</td>\n    </tr>\n    <tr>\n      <th>19.19</th>\n      <td>865.97</td>\n      <td>842.65</td>\n      <td>818.48</td>\n      <td>795.16</td>\n      <td>770.99</td>\n      <td>747.66</td>\n      <td>723.50</td>\n      <td>700.17</td>\n      <td>676.01</td>\n      <td>652.68</td>\n      <td>...</td>\n      <td>772.85</td>\n      <td>782.10</td>\n      <td>791.67</td>\n      <td>800.92</td>\n      <td>810.49</td>\n      <td>819.74</td>\n      <td>829.32</td>\n      <td>838.56</td>\n      <td>848.14</td>\n      <td>857.39</td>\n    </tr>\n    <tr>\n      <th>19.39</th>\n      <td>874.17</td>\n      <td>850.24</td>\n      <td>825.45</td>\n      <td>801.51</td>\n      <td>776.72</td>\n      <td>752.79</td>\n      <td>728.00</td>\n      <td>704.06</td>\n      <td>679.27</td>\n      <td>655.34</td>\n      <td>...</td>\n      <td>762.88</td>\n      <td>774.49</td>\n      <td>786.51</td>\n      <td>798.11</td>\n      <td>810.13</td>\n      <td>821.74</td>\n      <td>833.76</td>\n      <td>845.37</td>\n      <td>857.39</td>\n      <td>868.99</td>\n    </tr>\n    <tr>\n      <th>19.60</th>\n      <td>882.77</td>\n      <td>858.20</td>\n      <td>832.76</td>\n      <td>808.19</td>\n      <td>782.74</td>\n      <td>758.17</td>\n      <td>732.72</td>\n      <td>708.15</td>\n      <td>682.70</td>\n      <td>658.13</td>\n      <td>...</td>\n      <td>752.41</td>\n      <td>766.50</td>\n      <td>781.08</td>\n      <td>795.17</td>\n      <td>809.76</td>\n      <td>823.84</td>\n      <td>838.43</td>\n      <td>852.51</td>\n      <td>867.10</td>\n      <td>881.18</td>\n    </tr>\n    <tr>\n      <th>19.80</th>\n      <td>890.97</td>\n      <td>865.79</td>\n      <td>839.72</td>\n      <td>814.54</td>\n      <td>788.47</td>\n      <td>763.29</td>\n      <td>737.22</td>\n      <td>712.04</td>\n      <td>685.97</td>\n      <td>660.79</td>\n      <td>...</td>\n      <td>742.45</td>\n      <td>758.89</td>\n      <td>775.92</td>\n      <td>792.36</td>\n      <td>809.40</td>\n      <td>825.84</td>\n      <td>842.87</td>\n      <td>859.31</td>\n      <td>876.35</td>\n      <td>892.79</td>\n    </tr>\n    <tr>\n      <th>20.00</th>\n      <td>899.16</td>\n      <td>873.38</td>\n      <td>846.68</td>\n      <td>820.90</td>\n      <td>794.20</td>\n      <td>768.42</td>\n      <td>741.71</td>\n      <td>715.93</td>\n      <td>689.23</td>\n      <td>663.45</td>\n      <td>...</td>\n      <td>732.48</td>\n      <td>751.28</td>\n      <td>770.76</td>\n      <td>789.56</td>\n      <td>809.03</td>\n      <td>827.84</td>\n      <td>847.31</td>\n      <td>866.12</td>\n      <td>885.59</td>\n      <td>904.40</td>\n    </tr>\n  </tbody>\n</table>\n<p>100 rows × 100 columns</p>\n</div>"
     },
     "metadata": {},
     "execution_count": 19
    }
   ],
   "source": [
    "df_temp = pd.DataFrame(z_new, columns = x_new, index = y_new)\n",
    "df_temp"
   ]
  },
  {
   "cell_type": "code",
   "execution_count": 20,
   "metadata": {},
   "outputs": [
    {
     "output_type": "execute_result",
     "data": {
      "text/plain": [
       "'print(df_temp.loc[[54.11],[30.92]])\\nprint(df_temp.loc[[58.81],[22.66]])\\nprint(df_temp.loc[[58.98],[26.47]])\\nprint(df_temp.loc[[57.97],[33.79]])'"
      ]
     },
     "metadata": {},
     "execution_count": 20
    }
   ],
   "source": [
    "'''print(df_temp.loc[[54.11],[30.92]])\n",
    "print(df_temp.loc[[58.81],[22.66]])\n",
    "print(df_temp.loc[[58.98],[26.47]])\n",
    "print(df_temp.loc[[57.97],[33.79]])'''"
   ]
  },
  {
   "cell_type": "code",
   "execution_count": 21,
   "metadata": {
    "tags": []
   },
   "outputs": [
    {
     "output_type": "execute_result",
     "data": {
      "text/plain": [
       "      CH4_conv  C2_sel    Temp\n",
       "0         7.45    0.00  669.10\n",
       "1         7.45    0.20  672.34\n",
       "2         7.45    0.40  675.57\n",
       "3         7.45    0.61  678.97\n",
       "4         7.45    0.81  682.21\n",
       "...        ...     ...     ...\n",
       "9995     35.63   19.19  857.39\n",
       "9996     35.63   19.39  868.99\n",
       "9997     35.63   19.60  881.18\n",
       "9998     35.63   19.80  892.79\n",
       "9999     35.63   20.00  904.40\n",
       "\n",
       "[10000 rows x 3 columns]"
      ],
      "text/html": "<div>\n<style scoped>\n    .dataframe tbody tr th:only-of-type {\n        vertical-align: middle;\n    }\n\n    .dataframe tbody tr th {\n        vertical-align: top;\n    }\n\n    .dataframe thead th {\n        text-align: right;\n    }\n</style>\n<table border=\"1\" class=\"dataframe\">\n  <thead>\n    <tr style=\"text-align: right;\">\n      <th></th>\n      <th>CH4_conv</th>\n      <th>C2_sel</th>\n      <th>Temp</th>\n    </tr>\n  </thead>\n  <tbody>\n    <tr>\n      <th>0</th>\n      <td>7.45</td>\n      <td>0.00</td>\n      <td>669.10</td>\n    </tr>\n    <tr>\n      <th>1</th>\n      <td>7.45</td>\n      <td>0.20</td>\n      <td>672.34</td>\n    </tr>\n    <tr>\n      <th>2</th>\n      <td>7.45</td>\n      <td>0.40</td>\n      <td>675.57</td>\n    </tr>\n    <tr>\n      <th>3</th>\n      <td>7.45</td>\n      <td>0.61</td>\n      <td>678.97</td>\n    </tr>\n    <tr>\n      <th>4</th>\n      <td>7.45</td>\n      <td>0.81</td>\n      <td>682.21</td>\n    </tr>\n    <tr>\n      <th>...</th>\n      <td>...</td>\n      <td>...</td>\n      <td>...</td>\n    </tr>\n    <tr>\n      <th>9995</th>\n      <td>35.63</td>\n      <td>19.19</td>\n      <td>857.39</td>\n    </tr>\n    <tr>\n      <th>9996</th>\n      <td>35.63</td>\n      <td>19.39</td>\n      <td>868.99</td>\n    </tr>\n    <tr>\n      <th>9997</th>\n      <td>35.63</td>\n      <td>19.60</td>\n      <td>881.18</td>\n    </tr>\n    <tr>\n      <th>9998</th>\n      <td>35.63</td>\n      <td>19.80</td>\n      <td>892.79</td>\n    </tr>\n    <tr>\n      <th>9999</th>\n      <td>35.63</td>\n      <td>20.00</td>\n      <td>904.40</td>\n    </tr>\n  </tbody>\n</table>\n<p>10000 rows × 3 columns</p>\n</div>"
     },
     "metadata": {},
     "execution_count": 21
    }
   ],
   "source": [
    "x_int = []\n",
    "y_int = []\n",
    "z_int = []\n",
    "\n",
    "for i in (x_new):\n",
    "    for j in (y_new):\n",
    "        x_int.append(i)\n",
    "        y_int.append(j)\n",
    "        z_val = (df_temp.loc[[j],[i]])\n",
    "        z_int.append(float(z_val.values[0]))\n",
    "\n",
    "df2 = pd.DataFrame(list(zip(x_int, y_int, z_int)), columns = ['CH4_conv', 'C2_sel','Temp'])\n",
    "df2.to_excel('df2.xlsx', index=False)\n",
    "df2"
   ]
  },
  {
   "cell_type": "code",
   "execution_count": 22,
   "metadata": {},
   "outputs": [],
   "source": [
    "x_values = df2['CH4_conv']\n",
    "y_values = df2['C2_sel']\n",
    "z_values = df2['Temp']"
   ]
  },
  {
   "cell_type": "code",
   "execution_count": 23,
   "metadata": {},
   "outputs": [
    {
     "output_type": "display_data",
     "data": {
      "text/plain": "Canvas(toolbar=Toolbar(toolitems=[('Home', 'Reset original view', 'home', 'home'), ('Back', 'Back to previous …",
      "application/vnd.jupyter.widget-view+json": {
       "version_major": 2,
       "version_minor": 0,
       "model_id": "33ca27f275d9462a864674d1e19b67f5"
      }
     },
     "metadata": {}
    },
    {
     "output_type": "execute_result",
     "data": {
      "text/plain": [
       "Text(0.5, 0, 'Temperature (°C)')"
      ]
     },
     "metadata": {},
     "execution_count": 23
    }
   ],
   "source": [
    "fig = plt.figure()\n",
    "ax = fig.add_subplot(111, projection='3d')\n",
    "\n",
    "surf = ax.plot_trisurf(x_values, y_values, z_values, cmap='jet', linewidth=0.1)\n",
    "#fig.colorbar(surf, shrink=0.5, aspect=5)\n",
    "ax.scatter(x, y, z, color = 'black', s = 24)\n",
    "\n",
    "plt.title('Temperature vs. CH4 Conversion and C2 Selectivity')\n",
    "ax.set_xlabel('CH4 Conversion %')\n",
    "ax.set_ylabel('% CO2')\n",
    "ax.set_zlabel('Temperature (\\u00b0C)')"
   ]
  },
  {
   "cell_type": "code",
   "execution_count": 24,
   "metadata": {},
   "outputs": [
    {
     "output_type": "display_data",
     "data": {
      "text/plain": "Canvas(toolbar=Toolbar(toolitems=[('Home', 'Reset original view', 'home', 'home'), ('Back', 'Back to previous …",
      "application/vnd.jupyter.widget-view+json": {
       "version_major": 2,
       "version_minor": 0,
       "model_id": "1f429a896bf54a058287e9ce6c42bccc"
      }
     },
     "metadata": {}
    }
   ],
   "source": [
    "fig = plt.figure()\n",
    "ax = fig.add_subplot(111, projection='3d')\n",
    "\n",
    "x = df['CH4_conv']\n",
    "y = df['C2_sel']\n",
    "z = df['Temp']\n",
    "\n",
    "ax.plot3D(x, y, z, color = 'gray')\n",
    "ax.scatter(x, y, z, color = 'red')\n",
    "\n",
    "plt.title('Temperature vs. CH4 Conversion and C2 Selectivity')\n",
    "ax.set_xlabel('CH4 Conversion %')\n",
    "ax.set_ylabel('% CO2')\n",
    "ax.set_zlabel('Temperature (\\u00b0C)')\n",
    "\n",
    "plt.show()"
   ]
  }
 ]
}